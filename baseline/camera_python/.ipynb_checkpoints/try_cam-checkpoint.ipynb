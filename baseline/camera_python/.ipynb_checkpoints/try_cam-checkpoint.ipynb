{
 "cells": [
  {
   "cell_type": "code",
   "execution_count": 1,
   "metadata": {
    "collapsed": true
   },
   "outputs": [],
   "source": [
    "import cv2\n",
    "import time\n",
    "from threaded_cam import CamStream"
   ]
  },
  {
   "cell_type": "markdown",
   "metadata": {},
   "source": [
    "Single thread"
   ]
  },
  {
   "cell_type": "code",
   "execution_count": 4,
   "metadata": {
    "scrolled": false
   },
   "outputs": [
    {
     "name": "stdout",
     "output_type": "stream",
     "text": [
      "fps: 7.59422820606108\n"
     ]
    }
   ],
   "source": [
    "cam_0 = cv2.VideoCapture(0)\n",
    "cam_1 = cv2.VideoCapture(1)\n",
    "start = time.time()\n",
    "\n",
    "frames = 0\n",
    "while True:\n",
    "    ret_val, img_0 = cam_0.read()\n",
    "    ret_val, img_1 = cam_1.read()\n",
    "    cv2.imshow('my webcam 0', img_0)\n",
    "    cv2.imshow('my webcam 1', img_1)\n",
    "    print(img_0.shape, img_1.shape)\n",
    "    frames += 1\n",
    "    \n",
    "    # esc to quit\n",
    "    if cv2.waitKey(1) == 27:\n",
    "        total_time = time.time() - start\n",
    "        print('fps:', frames / total_time)\n",
    "        break \n",
    "cv2.destroyAllWindows()"
   ]
  },
  {
   "cell_type": "code",
   "execution_count": 5,
   "metadata": {},
   "outputs": [
    {
     "name": "stdout",
     "output_type": "stream",
     "text": [
      "fps: 30.351544142662398\n"
     ]
    }
   ],
   "source": [
    "cam_0 = CamStream(src=0).start()\n",
    "cam_1 = CamStream(src=1).start()\n",
    "start = time.time()\n",
    "\n",
    "frames = 0\n",
    "while True:\n",
    "    img_0 = cam_0.read()\n",
    "    img_1 = cam_1.read()\n",
    "    cv2.imshow('my webcam 0', img_0)\n",
    "    cv2.imshow('my webcam 1', img_1)\n",
    "    frames += 1\n",
    "    \n",
    "    # esc to quit\n",
    "    if cv2.waitKey(1) == 27:\n",
    "        total_time = time.time() - start\n",
    "        print('fps:', frames / total_time)\n",
    "        cam.stop()\n",
    "        break\n",
    "cv2.destroyAllWindows()"
   ]
  },
  {
   "cell_type": "code",
   "execution_count": null,
   "metadata": {
    "collapsed": true
   },
   "outputs": [],
   "source": []
  }
 ],
 "metadata": {
  "kernelspec": {
   "display_name": "Python 3",
   "language": "python",
   "name": "python3"
  },
  "language_info": {
   "codemirror_mode": {
    "name": "ipython",
    "version": 3
   },
   "file_extension": ".py",
   "mimetype": "text/x-python",
   "name": "python",
   "nbconvert_exporter": "python",
   "pygments_lexer": "ipython3",
   "version": "3.6.1"
  }
 },
 "nbformat": 4,
 "nbformat_minor": 2
}
