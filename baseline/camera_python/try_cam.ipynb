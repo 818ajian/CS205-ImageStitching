{
 "cells": [
  {
   "cell_type": "code",
   "execution_count": 1,
   "metadata": {
    "collapsed": true
   },
   "outputs": [],
   "source": [
    "import cv2\n",
    "import time\n",
    "from threaded_cam import CamStream"
   ]
  },
  {
   "cell_type": "markdown",
   "metadata": {},
   "source": [
    "Single thread"
   ]
  },
  {
   "cell_type": "code",
   "execution_count": 6,
   "metadata": {
    "scrolled": false
   },
   "outputs": [
    {
     "name": "stdout",
     "output_type": "stream",
     "text": [
      "(480, 640, 3) (720, 1280, 3)\n",
      "(480, 640, 3) (720, 1280, 3)\n",
      "(480, 640, 3) (720, 1280, 3)\n",
      "(480, 640, 3) (720, 1280, 3)\n",
      "(480, 640, 3) (720, 1280, 3)\n",
      "(480, 640, 3) (720, 1280, 3)\n",
      "(480, 640, 3) (720, 1280, 3)\n",
      "(480, 640, 3) (720, 1280, 3)\n",
      "(480, 640, 3) (720, 1280, 3)\n",
      "(480, 640, 3) (720, 1280, 3)\n",
      "(480, 640, 3) (720, 1280, 3)\n",
      "(480, 640, 3) (720, 1280, 3)\n",
      "(480, 640, 3) (720, 1280, 3)\n",
      "(480, 640, 3) (720, 1280, 3)\n",
      "(480, 640, 3) (720, 1280, 3)\n",
      "(480, 640, 3) (720, 1280, 3)\n",
      "(480, 640, 3) (720, 1280, 3)\n",
      "(480, 640, 3) (720, 1280, 3)\n",
      "(480, 640, 3) (720, 1280, 3)\n",
      "(480, 640, 3) (720, 1280, 3)\n",
      "(480, 640, 3) (720, 1280, 3)\n",
      "(480, 640, 3) (720, 1280, 3)\n",
      "(480, 640, 3) (720, 1280, 3)\n",
      "(480, 640, 3) (720, 1280, 3)\n",
      "(480, 640, 3) (720, 1280, 3)\n",
      "(480, 640, 3) (720, 1280, 3)\n",
      "(480, 640, 3) (720, 1280, 3)\n",
      "(480, 640, 3) (720, 1280, 3)\n",
      "(480, 640, 3) (720, 1280, 3)\n",
      "(480, 640, 3) (720, 1280, 3)\n"
     ]
    },
    {
     "ename": "KeyboardInterrupt",
     "evalue": "",
     "output_type": "error",
     "traceback": [
      "\u001b[0;31m---------------------------------------------------------------------------\u001b[0m",
      "\u001b[0;31mKeyboardInterrupt\u001b[0m                         Traceback (most recent call last)",
      "\u001b[0;32m<ipython-input-6-26f597679866>\u001b[0m in \u001b[0;36m<module>\u001b[0;34m()\u001b[0m\n\u001b[1;32m      6\u001b[0m \u001b[0;32mwhile\u001b[0m \u001b[0;32mTrue\u001b[0m\u001b[0;34m:\u001b[0m\u001b[0;34m\u001b[0m\u001b[0m\n\u001b[1;32m      7\u001b[0m     \u001b[0mret_val\u001b[0m\u001b[0;34m,\u001b[0m \u001b[0mimg_0\u001b[0m \u001b[0;34m=\u001b[0m \u001b[0mcam_0\u001b[0m\u001b[0;34m.\u001b[0m\u001b[0mread\u001b[0m\u001b[0;34m(\u001b[0m\u001b[0;34m)\u001b[0m\u001b[0;34m\u001b[0m\u001b[0m\n\u001b[0;32m----> 8\u001b[0;31m     \u001b[0mret_val\u001b[0m\u001b[0;34m,\u001b[0m \u001b[0mimg_1\u001b[0m \u001b[0;34m=\u001b[0m \u001b[0mcam_1\u001b[0m\u001b[0;34m.\u001b[0m\u001b[0mread\u001b[0m\u001b[0;34m(\u001b[0m\u001b[0;34m)\u001b[0m\u001b[0;34m\u001b[0m\u001b[0m\n\u001b[0m\u001b[1;32m      9\u001b[0m     \u001b[0mcv2\u001b[0m\u001b[0;34m.\u001b[0m\u001b[0mimshow\u001b[0m\u001b[0;34m(\u001b[0m\u001b[0;34m'my webcam 0'\u001b[0m\u001b[0;34m,\u001b[0m \u001b[0mimg_0\u001b[0m\u001b[0;34m)\u001b[0m\u001b[0;34m\u001b[0m\u001b[0m\n\u001b[1;32m     10\u001b[0m     \u001b[0mcv2\u001b[0m\u001b[0;34m.\u001b[0m\u001b[0mimshow\u001b[0m\u001b[0;34m(\u001b[0m\u001b[0;34m'my webcam 1'\u001b[0m\u001b[0;34m,\u001b[0m \u001b[0mimg_1\u001b[0m\u001b[0;34m)\u001b[0m\u001b[0;34m\u001b[0m\u001b[0m\n",
      "\u001b[0;31mKeyboardInterrupt\u001b[0m: "
     ]
    }
   ],
   "source": [
    "cam_0 = cv2.VideoCapture(0)\n",
    "cam_1 = cv2.VideoCapture(1)\n",
    "start = time.time()\n",
    "\n",
    "frames = 0\n",
    "while True:\n",
    "    ret_val, img_0 = cam_0.read()\n",
    "    ret_val, img_1 = cam_1.read()\n",
    "    cv2.imshow('my webcam 0', img_0)\n",
    "    cv2.imshow('my webcam 1', img_1)\n",
    "    print(img_0.shape, img_1.shape)\n",
    "    frames += 1\n",
    "    \n",
    "    # esc to quit\n",
    "    if cv2.waitKey(1) == 27:\n",
    "        total_time = time.time() - start\n",
    "        print('fps:', frames / total_time)\n",
    "        break \n",
    "cv2.destroyAllWindows()"
   ]
  },
  {
   "cell_type": "code",
   "execution_count": 5,
   "metadata": {},
   "outputs": [
    {
     "name": "stdout",
     "output_type": "stream",
     "text": [
      "fps: 30.351544142662398\n"
     ]
    }
   ],
   "source": [
    "cam_0 = CamStream(src=0).start()\n",
    "cam_1 = CamStream(src=1).start()\n",
    "start = time.time()\n",
    "\n",
    "frames = 0\n",
    "while True:\n",
    "    img_0 = cam_0.read()\n",
    "    img_1 = cam_1.read()\n",
    "    cv2.imshow('my webcam 0', img_0)\n",
    "    cv2.imshow('my webcam 1', img_1)\n",
    "    frames += 1\n",
    "    \n",
    "    # esc to quit\n",
    "    if cv2.waitKey(1) == 27:\n",
    "        total_time = time.time() - start\n",
    "        print('fps:', frames / total_time)\n",
    "        cam.stop()\n",
    "        break\n",
    "cv2.destroyAllWindows()"
   ]
  },
  {
   "cell_type": "code",
   "execution_count": null,
   "metadata": {
    "collapsed": true
   },
   "outputs": [],
   "source": []
  }
 ],
 "metadata": {
  "kernelspec": {
   "display_name": "Python 3",
   "language": "python",
   "name": "python3"
  },
  "language_info": {
   "codemirror_mode": {
    "name": "ipython",
    "version": 3
   },
   "file_extension": ".py",
   "mimetype": "text/x-python",
   "name": "python",
   "nbconvert_exporter": "python",
   "pygments_lexer": "ipython3",
   "version": "3.6.1"
  }
 },
 "nbformat": 4,
 "nbformat_minor": 2
}
